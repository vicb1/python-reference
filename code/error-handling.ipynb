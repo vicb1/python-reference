{
 "cells": [
  {
   "cell_type": "markdown",
   "metadata": {},
   "source": [
    "# write errors to file"
   ]
  },
  {
   "cell_type": "code",
   "execution_count": 1,
   "metadata": {},
   "outputs": [
    {
     "name": "stdout",
     "output_type": "stream",
     "text": [
      "start running program\n",
      "rest of program\n"
     ]
    }
   ],
   "source": [
    "import datetime\n",
    "import logging\n",
    "\n",
    "logger = logging.getLogger()\n",
    "logging.basicConfig(filename='errors_log.log', level=logging.DEBUG)\n",
    "logging.debug('Started run, time: ' + str(datetime.datetime.now()))\n",
    "\n",
    "logging.info('this is an info message')\n",
    "logging.error('test error message')\n",
    "logging.debug('This is a debug message')\n",
    "logging.warning('tbllalfhldfhd, warning.')\n",
    "logging.exception('Got exception on main handler, time')\n",
    "\n",
    "try:\n",
    "    print('start running program')\n",
    "    variable = error_variable  # will error out\n",
    "except:\n",
    "    logging.exception('Got exception on main handler, time: ' + str(datetime.datetime.now()))\n",
    "    # raise  # use \"raise\" to exit program right away, without finishing\n",
    "\n",
    "logging.debug('Finished run, time: ' + str(datetime.datetime.now()))\n",
    "print('rest of program')"
   ]
  },
  {
   "cell_type": "markdown",
   "metadata": {},
   "source": [
    "# try - except - finally"
   ]
  },
  {
   "cell_type": "code",
   "execution_count": 4,
   "metadata": {},
   "outputs": [
    {
     "name": "stdout",
     "output_type": "stream",
     "text": [
      "t\n",
      "e\n",
      "f\n"
     ]
    }
   ],
   "source": [
    "try:\n",
    "    print('t')\n",
    "    sd = 6 + 'fsdf'\n",
    "except:\n",
    "    print('e')\n",
    "finally:\n",
    "    print('f')"
   ]
  },
  {
   "cell_type": "code",
   "execution_count": null,
   "metadata": {},
   "outputs": [],
   "source": []
  }
 ],
 "metadata": {
  "kernelspec": {
   "display_name": "Python 3",
   "language": "python",
   "name": "python3"
  },
  "language_info": {
   "codemirror_mode": {
    "name": "ipython",
    "version": 3
   },
   "file_extension": ".py",
   "mimetype": "text/x-python",
   "name": "python",
   "nbconvert_exporter": "python",
   "pygments_lexer": "ipython3",
   "version": "3.8.5"
  }
 },
 "nbformat": 4,
 "nbformat_minor": 4
}
