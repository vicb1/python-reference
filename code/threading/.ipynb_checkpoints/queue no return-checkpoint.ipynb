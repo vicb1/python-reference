{
 "cells": [
  {
   "cell_type": "code",
   "execution_count": 2,
   "metadata": {},
   "outputs": [
    {
     "name": "stdout",
     "output_type": "stream",
     "text": [
      "processing 0\n",
      "processing 1\n",
      "processing 2\n",
      "processing 3\n",
      "processing 4\n",
      "processing 5\n",
      "processing 6\n",
      "processing 7\n",
      "processingprocessing 8\n",
      " 9\n",
      "processing 10\n",
      "processing 11\n",
      "processingprocessing  12\n",
      "13\n",
      "processing 14\n",
      "processing 15\n",
      "processing 16\n",
      "processing 17\n",
      "processing 18\n",
      "processing 19\n"
     ]
    }
   ],
   "source": [
    "import queue\n",
    "import threading\n",
    "\n",
    "\n",
    "def foo(i):\n",
    "    print('processing', i)\n",
    "\n",
    "\n",
    "que = queue.Queue(maxsize=4)\n",
    "\n",
    "threads_list = []\n",
    "for i in range(20):\n",
    "    t = threading.Thread(target=lambda q, arg1: q.put(foo(arg1)), args=(que, str(i)))\n",
    "    t.start()\n",
    "    threads_list.append(t)\n"
   ]
  }
 ],
 "metadata": {
  "kernelspec": {
   "display_name": "kaggle1",
   "language": "python",
   "name": "kaggle1"
  },
  "language_info": {
   "codemirror_mode": {
    "name": "ipython",
    "version": 3
   },
   "file_extension": ".py",
   "mimetype": "text/x-python",
   "name": "python",
   "nbconvert_exporter": "python",
   "pygments_lexer": "ipython3",
   "version": "3.7.6"
  }
 },
 "nbformat": 4,
 "nbformat_minor": 4
}
