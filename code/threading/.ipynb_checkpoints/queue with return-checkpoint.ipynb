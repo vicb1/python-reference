{
 "cells": [
  {
   "cell_type": "code",
   "execution_count": 4,
   "metadata": {},
   "outputs": [
    {
     "name": "stdout",
     "output_type": "stream",
     "text": [
      "processing 0\n",
      "processing 1\n",
      "processing processing2\n",
      "processing 4\n",
      " 3\n",
      "processingprocessingprocessing 6 5\n",
      " 7\n",
      "\n",
      "processingprocessing 9\n",
      " processing 10\n",
      "8\n",
      "processingprocessing 12\n",
      "processing  1311\n",
      "processing\n",
      " processing14\n",
      " 15\n",
      "processing 16\n",
      "processingprocessing 17\n",
      "processing result 018\n",
      "result 1\n",
      "result 2\n",
      "result 4\n",
      "result 3\n",
      "\n",
      " 19\n",
      "result 7\n",
      "result 5\n",
      "result 9\n",
      "result 18\n",
      "result 10\n",
      "result 8\n",
      "result 13\n",
      "result 14\n",
      "result 11\n",
      "result 15\n",
      "result 17\n",
      "result 12\n",
      "result 16\n",
      "result 6\n",
      "result 19\n",
      "['result 0', 'result 1', 'result 2', 'result 4', 'result 3', 'result 7', 'result 5', 'result 9', 'result 18', 'result 10', 'result 8', 'result 13', 'result 14', 'result 11', 'result 15', 'result 17', 'result 12', 'result 16', 'result 6', 'result 19']\n"
     ]
    }
   ],
   "source": [
    "import queue\n",
    "import threading\n",
    "\n",
    "\n",
    "def foo(i):\n",
    "    print('processing', i)\n",
    "    return 'result ' + str(i)\n",
    "\n",
    "\n",
    "que = queue.Queue(maxsize=4)\n",
    "\n",
    "threads_list = []\n",
    "for i in range(20):\n",
    "    t = threading.Thread(target=lambda q, arg1: q.put(foo(arg1)), args=(que, str(i)))\n",
    "    t.start()\n",
    "    threads_list.append(t)\n",
    "\n",
    "thread_results = []\n",
    "for t in threads_list:\n",
    "    # t.start()\n",
    "    response = que.get()\n",
    "    print(response)\n",
    "\n",
    "    thread_results.append(response)\n",
    "\n",
    "print(thread_results)\n"
   ]
  },
  {
   "cell_type": "code",
   "execution_count": null,
   "metadata": {},
   "outputs": [],
   "source": []
  },
  {
   "cell_type": "code",
   "execution_count": null,
   "metadata": {},
   "outputs": [],
   "source": []
  }
 ],
 "metadata": {
  "kernelspec": {
   "display_name": "kaggle1",
   "language": "python",
   "name": "kaggle1"
  },
  "language_info": {
   "codemirror_mode": {
    "name": "ipython",
    "version": 3
   },
   "file_extension": ".py",
   "mimetype": "text/x-python",
   "name": "python",
   "nbconvert_exporter": "python",
   "pygments_lexer": "ipython3",
   "version": "3.7.6"
  }
 },
 "nbformat": 4,
 "nbformat_minor": 4
}
