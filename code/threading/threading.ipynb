{
 "cells": [
  {
   "cell_type": "code",
   "execution_count": 7,
   "metadata": {},
   "outputs": [
    {
     "name": "stdout",
     "output_type": "stream",
     "text": [
      "start 0\n",
      "start 1\n",
      "start 2\n",
      "startstart 4\n",
      " 3\n",
      "start 5\n",
      "start 6\n",
      "start 7\n",
      "start start8\n",
      " 9\n"
     ]
    }
   ],
   "source": [
    "import threading\n",
    "import time\n",
    "\n",
    "maxthreads = 5\n",
    "sema = threading.Semaphore(value=maxthreads)\n",
    "threads = list()\n",
    "\n",
    "def task(i):\n",
    "    sema.acquire()\n",
    "    print (\"start\",i)\n",
    "    time.sleep(2)\n",
    "    sema.release()\n",
    "\n",
    "for i in range(10):\n",
    "    thread = threading.Thread(target=task,args=(str(i)))\n",
    "    threads.append(thread)\n",
    "    thread.start()"
   ]
  }
 ],
 "metadata": {
  "kernelspec": {
   "display_name": "kaggle1",
   "language": "python",
   "name": "kaggle1"
  },
  "language_info": {
   "codemirror_mode": {
    "name": "ipython",
    "version": 3
   },
   "file_extension": ".py",
   "mimetype": "text/x-python",
   "name": "python",
   "nbconvert_exporter": "python",
   "pygments_lexer": "ipython3",
   "version": "3.7.6"
  }
 },
 "nbformat": 4,
 "nbformat_minor": 4
}
