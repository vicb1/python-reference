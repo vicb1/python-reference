{
 "cells": [
  {
   "cell_type": "code",
   "execution_count": null,
   "metadata": {},
   "outputs": [
    {
     "name": "stdout",
     "output_type": "stream",
     "text": [
      "processing 0\n",
      "processing 1\n",
      "processing 2\n",
      "processing 3\n",
      "processingprocessing 5\n",
      " processingprocessing4\n",
      "processing 8 7\n",
      "\n",
      " 6\n",
      "processing 9\n",
      "processing processing10\n",
      " 11\n",
      "processing 12\n",
      "processingprocessing processing 15\n",
      "14processing 16\n",
      "\n",
      " processing 17\n",
      "13\n",
      "processingprocessing 18\n",
      " 19\n"
     ]
    }
   ],
   "source": [
    "import queue\n",
    "import threading\n",
    "\n",
    "\n",
    "def foo(i):\n",
    "    print('processing', i)\n",
    "\n",
    "\n",
    "que = queue.Queue(maxsize=4)\n",
    "\n",
    "threads_list = []\n",
    "for i in range(20):\n",
    "    t = threading.Thread(target=lambda q, arg1: q.put(foo(arg1)), args=(que, str(i)))\n",
    "    t.start()\n",
    "    threads_list.append(t)\n",
    "\n",
    "for t in threads_list:\n",
    "    t.join()"
   ]
  },
  {
   "cell_type": "code",
   "execution_count": null,
   "metadata": {},
   "outputs": [],
   "source": []
  }
 ],
 "metadata": {
  "kernelspec": {
   "display_name": "kaggle1",
   "language": "python",
   "name": "kaggle1"
  },
  "language_info": {
   "codemirror_mode": {
    "name": "ipython",
    "version": 3
   },
   "file_extension": ".py",
   "mimetype": "text/x-python",
   "name": "python",
   "nbconvert_exporter": "python",
   "pygments_lexer": "ipython3",
   "version": "3.7.6"
  }
 },
 "nbformat": 4,
 "nbformat_minor": 4
}
